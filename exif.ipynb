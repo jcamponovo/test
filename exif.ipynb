{
 "cells": [
  {
   "cell_type": "markdown",
   "metadata": {},
   "source": [
    "# Extraire les données cartographiques\n",
    "activité proposée par Yves Castel, code créé par vstep, le 25/01/2019 en Python 3.4"
   ]
  },
  {
   "cell_type": "markdown",
   "metadata": {},
   "source": [
    "Nous allons dans cette étape extraire les données de géolocalisation d'une photo et les afficher.\n",
    "\n",
    "Si nous affichons les données EXIF : on constate que l’affichage se fait en degrés, minutes et secondes. \n",
    "\n",
    "Si nous voulons localiser ces coordonnées sur Openstreetmap, nous aurons par la suite à convertir ces coordonnées en valeurs décimales."
   ]
  },
  {
   "cell_type": "code",
   "execution_count": 1,
   "metadata": {},
   "outputs": [],
   "source": [
    "#chargement des bibliothèques PIL et webbrowser\n",
    "from PIL import Image\n",
    "from IPython.display import HTML\n",
    "\n"
   ]
  },
  {
   "cell_type": "code",
   "execution_count": 2,
   "metadata": {
    "scrolled": true
   },
   "outputs": [
    {
     "name": "stdout",
     "output_type": "stream",
     "text": [
      "{34853: {0: b'\\x02\\x00\\x00\\x00', 1: 'N', 2: ((33, 1), (52, 1), (129675, 4096)), 3: 'W', 4: ((116, 1), (18, 1), (23882, 4096)), 5: b'\\x00', 6: (304, 1), 18: 'WGS-84'}, 296: 2, 34665: 240, 271: 'Canon', 272: 'Canon PowerShot A80', 305: 'Adobe Photoshop Elements 2.0', 274: 1, 306: '2006:03:02 11:07:04', 531: 1, 282: (180, 1), 283: (180, 1), 36864: b'0220', 37121: b'\\x01\\x02\\x03\\x00', 37122: (5, 1), 36867: '2006:02:11 11:06:37', 36868: '2006:02:11 11:06:37', 37377: (287, 32), 37378: (170, 32), 37380: (0, 3), 37381: (147, 32), 37383: 5, 37385: 24, 37386: (749, 32), 37510: b'\\x00\\x00\\x00\\x00\\x00\\x00\\x00\\x00\\x00\\x00\\x00\\x00\\x00\\x00\\x00\\x00\\x00\\x00\\x00\\x00\\x00\\x00\\x00\\x00\\x00\\x00\\x00\\x00\\x00\\x00\\x00\\x00\\x00\\x00\\x00\\x00\\x00\\x00\\x00\\x00\\x00\\x00\\x00\\x00\\x00\\x00\\x00\\x00\\x00\\x00\\x00\\x00\\x00\\x00\\x00\\x00\\x00\\x00\\x00\\x00\\x00\\x00\\x00\\x00\\x00\\x00\\x00\\x00\\x00\\x00\\x00\\x00\\x00\\x00\\x00\\x00\\x00\\x00\\x00\\x00\\x00\\x00\\x00\\x00\\x00\\x00\\x00\\x00\\x00\\x00\\x00\\x00\\x00\\x00\\x00\\x00\\x00\\x00\\x00\\x00\\x00\\x00\\x00\\x00\\x00\\x00\\x00\\x00\\x00\\x00\\x00\\x00\\x00\\x00\\x00\\x00\\x00\\x00\\x00\\x00\\x00\\x00\\x00\\x00\\x00\\x00\\x00\\x00\\x00\\x00\\x00\\x00\\x00\\x00\\x00\\x00\\x00\\x00\\x00\\x00\\x00\\x00\\x00\\x00\\x00\\x00\\x00\\x00\\x00\\x00\\x00\\x00\\x00\\x00\\x00\\x00\\x00\\x00\\x00\\x00\\x00\\x00\\x00\\x00\\x00\\x00\\x00\\x00\\x00\\x00\\x00\\x00\\x00\\x00\\x00\\x00\\x00\\x00\\x00\\x00\\x00\\x00\\x00\\x00\\x00\\x00\\x00\\x00\\x00\\x00\\x00\\x00\\x00\\x00\\x00\\x00\\x00\\x00\\x00\\x00\\x00\\x00\\x00\\x00\\x00\\x00\\x00\\x00\\x00\\x00\\x00\\x00\\x00\\x00\\x00\\x00\\x00\\x00\\x00\\x00\\x00\\x00\\x00\\x00\\x00\\x00\\x00\\x00\\x00\\x00\\x00\\x00\\x00\\x00\\x00\\x00\\x00\\x00\\x00\\x00\\x00\\x00\\x00\\x00\\x00\\x00\\x00\\x00\\x00\\x00\\x00\\x00\\x00\\x00\\x00\\x00\\x00\\x00\\x00\\x00\\x00\\x00\\x00\\x00', 40961: 65535, 40962: 1136, 41486: (2272000, 280), 40963: 852, 41487: (1704000, 210), 41488: 2, 41495: 2, 41728: b'\\x03', 33434: (1, 500), 33437: (63, 10), 41985: 0, 41986: 0, 40960: b'0100', 41987: 0, 41988: (2272, 2272), 41990: 0}\n"
     ]
    }
   ],
   "source": [
    "#chargement de l'image ( même dossier que le programme)\n",
    "im = Image.open( 'velo.jpg' )\n",
    "# chargement des données exif, c'est un dictionnaire les données gps sont à la clé 34853\n",
    "# repéré à l'aide de l'explorateur de variable de l'ide python\n",
    "exif_data = im._getexif()\n",
    "print(exif_data)"
   ]
  },
  {
   "cell_type": "markdown",
   "metadata": {},
   "source": [
    "Quelles informations apparaissent en clair ?\n",
    "\n",
    "L’affichage permet de voir que les données de géolocalisation de la photo sont intégrées à un dictionnaire dont la clé est 34853"
   ]
  },
  {
   "cell_type": "markdown",
   "metadata": {},
   "source": [
    "Remarque : la notion de dictionnaire n’est pas au programme de SNT. On peut considérer les dictionnaires comme des ensembles de paires clé: valeur, les clés devant être uniques (au sein d'un dictionnaire). Une paire d'accolades crée un dictionnaire vide : {}. Placer une liste de paires clé:valeur séparées par des virgules à l'intérieur des accolades ajoute les valeurs correspondantes au dictionnaire ; c'est également de cette façon que les dictionnaires sont affichés."
   ]
  },
  {
   "cell_type": "markdown",
   "metadata": {},
   "source": [
    "On peut extraire uniquement les données de géolocalisation avec les lignes suivantes:"
   ]
  },
  {
   "cell_type": "code",
   "execution_count": 3,
   "metadata": {},
   "outputs": [
    {
     "name": "stdout",
     "output_type": "stream",
     "text": [
      "{0: b'\\x02\\x00\\x00\\x00', 1: 'N', 2: ((33, 1), (52, 1), (129675, 4096)), 3: 'W', 4: ((116, 1), (18, 1), (23882, 4096)), 5: b'\\x00', 6: (304, 1), 18: 'WGS-84'}\n"
     ]
    }
   ],
   "source": [
    "#chargement des données de la clé 34853 qui correspond aux données GPS\n",
    "test=exif_data[34853]\n",
    "print(test)"
   ]
  },
  {
   "cell_type": "markdown",
   "metadata": {},
   "source": [
    "Remarque :Python propose un type de données appelé tuple (anglicisme informatique signifiant \"Table UPLEt\"), qui est assez semblable à une liste mais qui n'est pas modifiable. Les tuples sont donc préférables aux listes partout où l'on veut être certain que les données transmises ne soient pas modifiées par erreur au sein d'un programme. En outre, les tuples sont moins « gourmands » en ressources système (ils occupent moins de place en mémoire).Du point de vue de la syntaxe, un tuple est une collection d'éléments séparés par des virgules :>>> tuple = 'a', 'b', 'c', 'd', 'e'>>> print(tuple)('a', 'b', 'c', 'd', 'e')Pour améliorer la lisibilité du code, il est vivement conseillé de déclarer le tuple en évidence en l'enfermant dans une paire de parenthèses, comme l'instruction \"print\" de Python le fait elle-même.>>> tuple = ('a', 'b', 'c', 'd', 'e')\n"
   ]
  },
  {
   "cell_type": "code",
   "execution_count": 4,
   "metadata": {},
   "outputs": [
    {
     "name": "stdout",
     "output_type": "stream",
     "text": [
      "latitude brute: \t N ((33, 1), (52, 1), (129675, 4096))\n",
      "longitude brute: \t W ((116, 1), (18, 1), (23882, 4096))\n"
     ]
    }
   ],
   "source": [
    "#pour la latitude les cles sont 1 et 2\n",
    "print(\"latitude brute: \\t\",test[1],test[2])\n",
    "\n",
    "#pour la longitude les cles sont 3 et 4\n",
    "print(\"longitude brute: \\t\",test[3],test[4])\n"
   ]
  },
  {
   "cell_type": "markdown",
   "metadata": {},
   "source": [
    "Pour chaque tuple, on divise la premiere valeur par la seconde pour avoir une valeur decimale\n",
    "\n",
    "Le premier est un nombre de degrés, le second en minutes et le troisieme en secondes d'angle\n",
    "\n",
    "On convertit le tout en une valeur decimale en degrés\n",
    "\n",
    "Attention, une longitude ouest est négative, de même qu'une latitude sud !"
   ]
  },
  {
   "cell_type": "code",
   "execution_count": 5,
   "metadata": {},
   "outputs": [
    {
     "name": "stdout",
     "output_type": "stream",
     "text": [
      "la latitude est:  33.87546081542969\n",
      "la longitude est:  -116.3016196017795\n"
     ]
    }
   ],
   "source": [
    "lat_deg=test[2][0][0]/test[2][0][1]\n",
    "lat_min=test[2][1][0]/test[2][1][1]\n",
    "lat_sec=test[2][2][0]/test[2][2][1]\n",
    "\n",
    "#Il y a 60 minutes d'angle dans un degré et 3600 secondes d'angle dans un degré\n",
    "lat = lat_deg + lat_min / 60 + lat_sec / 3600\n",
    "\n",
    "if test[1]==\"S\":\n",
    "    lat = -lat\n",
    "    \n",
    "print(\"la latitude est: \",lat)\n",
    "\n",
    "# idem\n",
    "lon_deg=test[4][0][0]/test[4][0][1]\n",
    "lon_min=test[4][1][0]/test[4][1][1]\n",
    "lon_sec=test[4][2][0]/test[4][2][1]\n",
    "\n",
    "lon=lon_deg+lon_min/60+lon_sec/3600\n",
    "\n",
    "if test[3]=='W':\n",
    "    lon=-lon\n",
    "    \n",
    "print(\"la longitude est: \",lon)\n",
    "\n"
   ]
  },
  {
   "cell_type": "markdown",
   "metadata": {},
   "source": [
    "Question : pourquoi les coordonnées sont-elles renseignées sous cette forme (( degré, 1)…) ?"
   ]
  },
  {
   "cell_type": "markdown",
   "metadata": {},
   "source": [
    "# Afficher la localisation de l'image sur Openstreetmap"
   ]
  },
  {
   "cell_type": "markdown",
   "metadata": {},
   "source": [
    "Il suffit de construire l'url et d'utiliser les commandes suivantes"
   ]
  },
  {
   "cell_type": "code",
   "execution_count": 6,
   "metadata": {},
   "outputs": [
    {
     "data": {
      "text/html": [
       "<a href=\"https://www.openstreetmap.org/note/new?lat=33.87546081542969&lon=-116.3016196017795#map=18/33.87546081542969/-116.3016196017795\" target=\"_blank\">Voir la carte</a>"
      ],
      "text/plain": [
       "<IPython.core.display.HTML object>"
      ]
     },
     "execution_count": 6,
     "metadata": {},
     "output_type": "execute_result"
    }
   ],
   "source": [
    "# on affiche le tout dans openstreetmap\n",
    "zoom='18'\n",
    "HTML('''<a href=\"https://www.openstreetmap.org/note/new?lat='''+str(lat)+'&lon='+str(lon)+'#map='+zoom+'/'+str(lat)+'/'+str(lon)+'\" target=\"_blank\">Voir la carte</a>')\n",
    "\n"
   ]
  },
  {
   "cell_type": "markdown",
   "metadata": {},
   "source": [
    "Si on remplace la photo « velo.jpg » par une prise de vue réalisée avec un iphone (lycIphone.jpg)  puis par une photo réalisée avec un téléphone de marque Samsung (lycSamsung) que constate-t-on lorsqu’on affiche les coordonnées ?"
   ]
  },
  {
   "cell_type": "code",
   "execution_count": 13,
   "metadata": {},
   "outputs": [],
   "source": [
    "def GPS(image):\n",
    "    im = Image.open( image )\n",
    "    exif_data = im._getexif()\n",
    "    test=exif_data[34853]\n",
    "\n",
    "    lat_deg=test[2][0][0]/test[2][0][1]\n",
    "    lat_min=test[2][1][0]/test[2][1][1]\n",
    "    lat_sec=test[2][2][0]/test[2][2][1]\n",
    "\n",
    "    lat = lat_deg + lat_min / 60 + lat_sec / 3600\n",
    "\n",
    "    if test[1]==\"S\":\n",
    "        lat = -lat\n",
    "    \n",
    "    lon_deg=test[4][0][0]/test[4][0][1]\n",
    "    lon_min=test[4][1][0]/test[4][1][1]\n",
    "    lon_sec=test[4][2][0]/test[4][2][1]\n",
    "\n",
    "    lon=lon_deg+lon_min/60+lon_sec/3600\n",
    "\n",
    "    if test[3]=='W':\n",
    "        lon=-lon\n",
    "    return lat,lon\n",
    "\n",
    "def POS(lat,lon,texte):\n",
    "    # on affiche le tout dans openstreetmap\n",
    "    zoom='18'\n",
    "    return HTML('''<a href=\"https://www.openstreetmap.org/note/new?lat='''+str(lat)+'&lon='+str(lon)+'#map='+zoom+'/'+str(lat)+'/'+str(lon)+'\" target=\"_blank\">'+texte+'</a>')"
   ]
  },
  {
   "cell_type": "code",
   "execution_count": 8,
   "metadata": {},
   "outputs": [
    {
     "name": "stdout",
     "output_type": "stream",
     "text": [
      "Latitude: 43.47198888888889\n",
      "Longitude: 6.546227777777777\n"
     ]
    }
   ],
   "source": [
    "#Iphone\n",
    "lat1,lon1 = GPS(\"lycIphone.jpg\")\n",
    "print(\"Latitude:\",lat1)\n",
    "print(\"Longitude:\",lon1)"
   ]
  },
  {
   "cell_type": "code",
   "execution_count": 9,
   "metadata": {},
   "outputs": [
    {
     "name": "stdout",
     "output_type": "stream",
     "text": [
      "Latitude: 43.472048\n",
      "Longitude: 6.546449\n"
     ]
    }
   ],
   "source": [
    "#One\n",
    "lat2,lon2 = GPS(\"lycOne.jpg\")\n",
    "print(\"Latitude:\",lat2)\n",
    "print(\"Longitude:\",lon2)"
   ]
  },
  {
   "cell_type": "code",
   "execution_count": 10,
   "metadata": {},
   "outputs": [
    {
     "name": "stdout",
     "output_type": "stream",
     "text": [
      "Latitude: 43.471944444444446\n",
      "Longitude: 6.546388888888889\n"
     ]
    }
   ],
   "source": [
    "#Samsung\n",
    "lat3,lon3 = GPS(\"lycSamsung.jpg\")\n",
    "print(\"Latitude:\",lat3)\n",
    "print(\"Longitude:\",lon3)"
   ]
  },
  {
   "cell_type": "code",
   "execution_count": 15,
   "metadata": {},
   "outputs": [
    {
     "data": {
      "text/html": [
       "<a href=\"https://www.openstreetmap.org/note/new?lat=43.47198888888889&lon=6.546227777777777#map=18/43.47198888888889/6.546227777777777\" target=\"_blank\">Iphone</a>"
      ],
      "text/plain": [
       "<IPython.core.display.HTML object>"
      ]
     },
     "execution_count": 15,
     "metadata": {},
     "output_type": "execute_result"
    }
   ],
   "source": [
    "POS(lat1,lon1,\"Iphone\")"
   ]
  },
  {
   "cell_type": "code",
   "execution_count": 16,
   "metadata": {},
   "outputs": [
    {
     "data": {
      "text/html": [
       "<a href=\"https://www.openstreetmap.org/note/new?lat=43.472048&lon=6.546449#map=18/43.472048/6.546449\" target=\"_blank\">One</a>"
      ],
      "text/plain": [
       "<IPython.core.display.HTML object>"
      ]
     },
     "execution_count": 16,
     "metadata": {},
     "output_type": "execute_result"
    }
   ],
   "source": [
    "POS(lat2,lon2,\"One\")"
   ]
  },
  {
   "cell_type": "code",
   "execution_count": 17,
   "metadata": {},
   "outputs": [
    {
     "data": {
      "text/html": [
       "<a href=\"https://www.openstreetmap.org/note/new?lat=43.471944444444446&lon=6.546388888888889#map=18/43.471944444444446/6.546388888888889\" target=\"_blank\">Samsung</a>"
      ],
      "text/plain": [
       "<IPython.core.display.HTML object>"
      ]
     },
     "execution_count": 17,
     "metadata": {},
     "output_type": "execute_result"
    }
   ],
   "source": [
    "POS(lat3,lon3,\"Samsung\")"
   ]
  },
  {
   "cell_type": "markdown",
   "metadata": {},
   "source": [
    "Cette différence de codage entre les constructeurs a-t-il un impact sur la précision de la géolocalisation ?"
   ]
  },
  {
   "cell_type": "markdown",
   "metadata": {},
   "source": [
    "Il peut être intéressant de proposer aux élèves de travailler sur la précision de la géolocalisation proposée par leur smartphone.L’idée est la suivante : on demande aux élèves disposant de smartphone de marques différentes de prendre la même photo (une photo du tableau de la classe dans les fichiers proposés) et de comparer d’une part le format choisi par le constructeur pour stocker les coordonnées et la précision de la géolocalisation.\n",
    "Les smartphones les plus connus ne sont pas forcément les plus efficaces sur ce point…\n"
   ]
  },
  {
   "cell_type": "markdown",
   "metadata": {},
   "source": [
    "Essayez maintenant avec une photo prise depuis votre tablette ou votre smartphone. Il suffit de la déposer sur le serveur en faisant \"Fichier\", \"Ouvrir\" puis en cliquant sur le bouton \"téléverser\". Notez le nom de votre image et remplacez \"Monimage.jpg\" par le nom de votre image dans le code suivant:"
   ]
  },
  {
   "cell_type": "code",
   "execution_count": 12,
   "metadata": {},
   "outputs": [
    {
     "ename": "FileNotFoundError",
     "evalue": "[Errno 2] No such file or directory: 'Monimage.jpg'",
     "output_type": "error",
     "traceback": [
      "\u001b[0;31m---------------------------------------------------------------------------\u001b[0m",
      "\u001b[0;31mFileNotFoundError\u001b[0m                         Traceback (most recent call last)",
      "\u001b[0;32m<ipython-input-12-8ae9993ffc94>\u001b[0m in \u001b[0;36m<module>\u001b[0;34m\u001b[0m\n\u001b[0;32m----> 1\u001b[0;31m \u001b[0mlat4\u001b[0m\u001b[0;34m,\u001b[0m\u001b[0mlon4\u001b[0m \u001b[0;34m=\u001b[0m \u001b[0mGPS\u001b[0m\u001b[0;34m(\u001b[0m\u001b[0;34m\"Monimage.jpg\"\u001b[0m\u001b[0;34m)\u001b[0m\u001b[0;34m\u001b[0m\u001b[0;34m\u001b[0m\u001b[0m\n\u001b[0m\u001b[1;32m      2\u001b[0m \u001b[0mprint\u001b[0m\u001b[0;34m(\u001b[0m\u001b[0;34m\"Latitude:\"\u001b[0m\u001b[0;34m,\u001b[0m\u001b[0mlat4\u001b[0m\u001b[0;34m)\u001b[0m\u001b[0;34m\u001b[0m\u001b[0;34m\u001b[0m\u001b[0m\n\u001b[1;32m      3\u001b[0m \u001b[0mprint\u001b[0m\u001b[0;34m(\u001b[0m\u001b[0;34m\"Longitude:\"\u001b[0m\u001b[0;34m,\u001b[0m\u001b[0mlon4\u001b[0m\u001b[0;34m)\u001b[0m\u001b[0;34m\u001b[0m\u001b[0;34m\u001b[0m\u001b[0m\n\u001b[1;32m      4\u001b[0m \u001b[0mPOS\u001b[0m\u001b[0;34m(\u001b[0m\u001b[0mlat4\u001b[0m\u001b[0;34m,\u001b[0m\u001b[0mlon4\u001b[0m\u001b[0;34m)\u001b[0m\u001b[0;34m\u001b[0m\u001b[0;34m\u001b[0m\u001b[0m\n",
      "\u001b[0;32m<ipython-input-7-84cf3d61b3cf>\u001b[0m in \u001b[0;36mGPS\u001b[0;34m(image)\u001b[0m\n\u001b[1;32m      1\u001b[0m \u001b[0;32mdef\u001b[0m \u001b[0mGPS\u001b[0m\u001b[0;34m(\u001b[0m\u001b[0mimage\u001b[0m\u001b[0;34m)\u001b[0m\u001b[0;34m:\u001b[0m\u001b[0;34m\u001b[0m\u001b[0;34m\u001b[0m\u001b[0m\n\u001b[0;32m----> 2\u001b[0;31m     \u001b[0mim\u001b[0m \u001b[0;34m=\u001b[0m \u001b[0mImage\u001b[0m\u001b[0;34m.\u001b[0m\u001b[0mopen\u001b[0m\u001b[0;34m(\u001b[0m \u001b[0mimage\u001b[0m \u001b[0;34m)\u001b[0m\u001b[0;34m\u001b[0m\u001b[0;34m\u001b[0m\u001b[0m\n\u001b[0m\u001b[1;32m      3\u001b[0m     \u001b[0mexif_data\u001b[0m \u001b[0;34m=\u001b[0m \u001b[0mim\u001b[0m\u001b[0;34m.\u001b[0m\u001b[0m_getexif\u001b[0m\u001b[0;34m(\u001b[0m\u001b[0;34m)\u001b[0m\u001b[0;34m\u001b[0m\u001b[0;34m\u001b[0m\u001b[0m\n\u001b[1;32m      4\u001b[0m     \u001b[0mtest\u001b[0m\u001b[0;34m=\u001b[0m\u001b[0mexif_data\u001b[0m\u001b[0;34m[\u001b[0m\u001b[0;36m34853\u001b[0m\u001b[0;34m]\u001b[0m\u001b[0;34m\u001b[0m\u001b[0;34m\u001b[0m\u001b[0m\n\u001b[1;32m      5\u001b[0m \u001b[0;34m\u001b[0m\u001b[0m\n",
      "\u001b[0;32m/usr/lib/python3/dist-packages/PIL/Image.py\u001b[0m in \u001b[0;36mopen\u001b[0;34m(fp, mode)\u001b[0m\n\u001b[1;32m   2632\u001b[0m \u001b[0;34m\u001b[0m\u001b[0m\n\u001b[1;32m   2633\u001b[0m     \u001b[0;32mif\u001b[0m \u001b[0mfilename\u001b[0m\u001b[0;34m:\u001b[0m\u001b[0;34m\u001b[0m\u001b[0;34m\u001b[0m\u001b[0m\n\u001b[0;32m-> 2634\u001b[0;31m         \u001b[0mfp\u001b[0m \u001b[0;34m=\u001b[0m \u001b[0mbuiltins\u001b[0m\u001b[0;34m.\u001b[0m\u001b[0mopen\u001b[0m\u001b[0;34m(\u001b[0m\u001b[0mfilename\u001b[0m\u001b[0;34m,\u001b[0m \u001b[0;34m\"rb\"\u001b[0m\u001b[0;34m)\u001b[0m\u001b[0;34m\u001b[0m\u001b[0;34m\u001b[0m\u001b[0m\n\u001b[0m\u001b[1;32m   2635\u001b[0m         \u001b[0mexclusive_fp\u001b[0m \u001b[0;34m=\u001b[0m \u001b[0;32mTrue\u001b[0m\u001b[0;34m\u001b[0m\u001b[0;34m\u001b[0m\u001b[0m\n\u001b[1;32m   2636\u001b[0m \u001b[0;34m\u001b[0m\u001b[0m\n",
      "\u001b[0;31mFileNotFoundError\u001b[0m: [Errno 2] No such file or directory: 'Monimage.jpg'"
     ]
    }
   ],
   "source": [
    "lat4,lon4 = GPS(\"Monimage.jpg\")\n",
    "print(\"Latitude:\",lat4)\n",
    "print(\"Longitude:\",lon4)\n",
    "POS(lat4,lon4)"
   ]
  }
 ],
 "metadata": {
  "kernelspec": {
   "display_name": "Python 3",
   "language": "python",
   "name": "python3"
  },
  "language_info": {
   "codemirror_mode": {
    "name": "ipython",
    "version": 3
   },
   "file_extension": ".py",
   "mimetype": "text/x-python",
   "name": "python",
   "nbconvert_exporter": "python",
   "pygments_lexer": "ipython3",
   "version": "3.7.3rc1"
  }
 },
 "nbformat": 4,
 "nbformat_minor": 2
}
