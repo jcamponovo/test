{
 "cells": [
  {
   "cell_type": "markdown",
   "metadata": {},
   "source": [
    "<center><h2>ATTENTION! Avant de démarrer, merci de suivre la procédure en 4 étapes ci-dessous pour le bon fonctionnement de la page</h2></center>\n",
    "<b style=\"color:red;\">1°) Cliquez sur le bouton \"Sans Confiance\"</b> \n",
    "<center><img src=\"./trust.png\"></center>\n",
    "<p>\n",
    "<br></p>\n",
    "<b style=\"color:red;\">2°) Cliquer sur le bouton rouge \"Faire Confiance\" pour autoriser l'exécution des scripts de la page</b>\n",
    "<center><img src=\"./trust2.png\"></center>\n",
    "<p>\n",
    "<br></p>\n",
    "<b style=\"color:red;\">3°) Cliquez sur l'icone \"redémarrer le noyau et ré-exécuter tout le notebook\"</b>\n",
    "<center><img src=\"./trust3.png\"></center>\n",
    "<p>\n",
    "<br></p>\n",
    "<b style=\"color:red;\">4°) Cliquez sur le bouton rouge \"Relancer et exécuter toutes les cellules\" pour exécuter tous les programmes pythons déjà présents sur la page</b>\n",
    "<center><img src=\"./trust4.png\"></center>"
   ]
  },
  {
   "cell_type": "markdown",
   "metadata": {},
   "source": [
    "<div id=\"Titre\"></div>\n",
    "\n",
    "# Fiche Méthode - Modéliser une série de données\n",
    "\n",
    "## Sommaire\n",
    "<ol><li><a href=\"#Importer CSV\">Importer un fichier CSV</a></li>\n",
    "    <li><a href=\"#Ecrire fonction\">Ecrire une fonction</a></li>\n",
    "    <li><a href=\"#Modeliser\">Modéliser</a></li>\n",
    "    <li><a href=\"#Tracer\">Tracer le modèle</a></li>\n",
    "    <li><a href=\"#Exemple\">Exemple complet</a></li></ol>\n",
    "\n",
    "<h2><center>Vous pouvez modifier et exécuter chacun des codes de la page pour comprendre ce que fait chaque ligne et option</center></h2>"
   ]
  },
  {
   "cell_type": "markdown",
   "metadata": {},
   "source": [
    "<p><br><b>Installation automatique des bibliothèques (normalement cela est déjà fait)</b></p>"
   ]
  },
  {
   "cell_type": "code",
   "execution_count": 1,
   "metadata": {},
   "outputs": [
    {
     "name": "stdout",
     "output_type": "stream",
     "text": [
      "Requirement already satisfied: matplotlib in /home/camponovo/.local/lib/python3.7/site-packages (2.2.2)\n",
      "Requirement already satisfied: pyparsing!=2.0.4,!=2.1.2,!=2.1.6,>=2.0.1 in /usr/local/lib/python3.7/dist-packages (from matplotlib) (2.3.0)\n",
      "Requirement already satisfied: python-dateutil>=2.1 in /usr/local/lib/python3.7/dist-packages (from matplotlib) (2.7.5)\n",
      "Requirement already satisfied: numpy>=1.7.1 in /usr/lib/python3/dist-packages (from matplotlib) (1.16.2)\n",
      "Requirement already satisfied: pytz in /home/camponovo/.local/lib/python3.7/site-packages (from matplotlib) (2019.1)\n",
      "Requirement already satisfied: cycler>=0.10 in /usr/local/lib/python3.7/dist-packages (from matplotlib) (0.10.0)\n",
      "Requirement already satisfied: six>=1.10 in /usr/lib/python3/dist-packages (from matplotlib) (1.12.0)\n",
      "Requirement already satisfied: kiwisolver>=1.0.1 in /usr/local/lib/python3.7/dist-packages (from matplotlib) (1.0.1)\n",
      "Requirement already satisfied: setuptools in /usr/lib/python3/dist-packages (from kiwisolver>=1.0.1->matplotlib) (40.8.0)\n",
      "Requirement already satisfied: scipy in /usr/lib/python3/dist-packages (1.1.0)\n"
     ]
    }
   ],
   "source": [
    "!pip install matplotlib\n",
    "!pip install scipy"
   ]
  },
  {
   "cell_type": "markdown",
   "metadata": {},
   "source": [
    "<p><br><b>Autoriser l'interaction avec les graphiques (facultatif)</b></p>"
   ]
  },
  {
   "cell_type": "code",
   "execution_count": 2,
   "metadata": {},
   "outputs": [],
   "source": [
    "%matplotlib notebook"
   ]
  },
  {
   "cell_type": "markdown",
   "metadata": {},
   "source": [
    "<b>Importer</b> (charger en mémoire) la bibliothèque <b>matplotlib.pyplot</b> sous le nom <b>plt</b>, la fonction <b>curve_fit</b> qui va nous ajuster le modèle ainsi que les fonctions et valeurs nécessaires."
   ]
  },
  {
   "cell_type": "code",
   "execution_count": 3,
   "metadata": {},
   "outputs": [],
   "source": [
    "import matplotlib.pyplot as plt\n",
    "from scipy.optimize import curve_fit\n",
    "from math import cos,pi"
   ]
  },
  {
   "cell_type": "markdown",
   "metadata": {},
   "source": [
    "<div id=\"Importer CSV\"></div>\n",
    "\n",
    "## Importer un fichier CSV <a href=\"#Titre\">(Sommaire)</a>"
   ]
  },
  {
   "cell_type": "markdown",
   "metadata": {},
   "source": [
    "<b>2°)</b> Construire les listes de valeurs de x et de y. Elles doivent avoir le <b>même nombre de valeurs.</b>"
   ]
  },
  {
   "cell_type": "code",
   "execution_count": 4,
   "metadata": {},
   "outputs": [],
   "source": [
    "from tkinter import Tk\n",
    "from tkinter.filedialog import askopenfilename\n",
    "fen = Tk()\n",
    "name = askopenfilename(filetypes =((\"Fichier CSV\", \"*.csv\"),(\"Fichier Texte\",\"*.txt\"),(\"Tous les fichiers\",\"*.*\")),title = \"Choisir un fichier\")\n",
    "fen.destroy()"
   ]
  },
  {
   "cell_type": "markdown",
   "metadata": {},
   "source": [
    "<b>3°)</b> Construire le graphique y = f(x) puis l'afficher avec <b>plt.plot</b> et <b>plt.show</b>"
   ]
  },
  {
   "cell_type": "markdown",
   "metadata": {},
   "source": [
    "<div id=\"Ecrire fonction\"></div>\n",
    "\n",
    "## Ecrire une fonction  <a href=\"#Titre\">(Sommaire)</a>"
   ]
  },
  {
   "cell_type": "markdown",
   "metadata": {},
   "source": [
    "<b>Mettre une légende</b>"
   ]
  },
  {
   "cell_type": "code",
   "execution_count": null,
   "metadata": {},
   "outputs": [],
   "source": [
    "plt.figure()\n",
    "plt.plot(x,y,label='Courbe 1')\n",
    "plt.legend()\n",
    "plt.show()"
   ]
  },
  {
   "cell_type": "markdown",
   "metadata": {},
   "source": [
    "<b>Mettre un titre</b>"
   ]
  },
  {
   "cell_type": "code",
   "execution_count": null,
   "metadata": {},
   "outputs": [],
   "source": [
    "plt.figure()\n",
    "plt.plot(x,y)\n",
    "plt.title(\"Voici un titre\")\n",
    "plt.show()"
   ]
  },
  {
   "cell_type": "markdown",
   "metadata": {},
   "source": [
    "<b>Mettre des noms sur les axes</b>"
   ]
  },
  {
   "cell_type": "code",
   "execution_count": null,
   "metadata": {},
   "outputs": [],
   "source": [
    "plt.figure()\n",
    "plt.plot(x,y)\n",
    "plt.xlabel(\"Grandeur axe X (unité)\")\n",
    "plt.ylabel(\"Grandeur axe Y (unité)\")\n",
    "plt.show()"
   ]
  },
  {
   "cell_type": "markdown",
   "metadata": {},
   "source": [
    "<div id=\"Modeliser\"></div>\n",
    "\n",
    "## Modéliser <a href=\"#Titre\">(Sommaire)</a>"
   ]
  },
  {
   "cell_type": "code",
   "execution_count": null,
   "metadata": {},
   "outputs": [],
   "source": [
    "x1=[]\n",
    "y1=[]\n",
    "y2=[]\n",
    "for i in range(100):\n",
    "    x1.append(i/100)\n",
    "    y1.append(2.5*cos(2*pi*4*x1[i]))\n",
    "    y2.append(1.5*cos(2*pi*8*x1[i]))"
   ]
  },
  {
   "cell_type": "markdown",
   "metadata": {},
   "source": [
    "<b>Tracer les deux courbes sur un même graphique</b>"
   ]
  },
  {
   "cell_type": "code",
   "execution_count": null,
   "metadata": {
    "scrolled": false
   },
   "outputs": [],
   "source": [
    "plt.figure()\n",
    "plt.plot(x1,y1)\n",
    "plt.plot(x1,y2)\n",
    "plt.show()"
   ]
  },
  {
   "cell_type": "markdown",
   "metadata": {},
   "source": [
    "<div id=\"Tracer\"></div>\n",
    "\n",
    "## Tracer le modèle <a href=\"#Titre\">(Sommaire)</a>"
   ]
  },
  {
   "cell_type": "markdown",
   "metadata": {},
   "source": [
    "<b>Couleur et style:</b> Modifiez le code ci-dessous pour essayer\n",
    "<p>color (Couleur de la courbe) => essayez \"black\" \"red\" \"blue\" \"green\" \"yellow\" etc...</p>\n",
    "<p>linestyle (type de ligne) => essayez '-' ':' '--' '-.' ou ' '</p>\n",
    "<p>marker (points) => essayez '.' ',' 'o' 'v' '^' '+' 'x' 's' 'p' 'h' '*' 'H' 'D' 'd' ou ' '</p>"
   ]
  },
  {
   "cell_type": "code",
   "execution_count": null,
   "metadata": {},
   "outputs": [],
   "source": [
    "plt.figure()\n",
    "plt.plot(x1,y1,color=\"green\",marker=\"x\")\n",
    "plt.plot(x1,y2,linestyle='-.')\n",
    "plt.plot(x,y,linestyle=\" \",marker=\"+\")\n",
    "plt.show()"
   ]
  },
  {
   "cell_type": "markdown",
   "metadata": {},
   "source": [
    "<b>Modifier les limites des axes</b>"
   ]
  },
  {
   "cell_type": "code",
   "execution_count": null,
   "metadata": {},
   "outputs": [],
   "source": [
    "plt.figure()\n",
    "plt.plot(x,y)\n",
    "plt.xlim([0.2,0.8])\n",
    "plt.ylim([-5,4])\n",
    "plt.show()"
   ]
  },
  {
   "cell_type": "markdown",
   "metadata": {},
   "source": [
    "<b>L'aide de la méthode plot</b>"
   ]
  },
  {
   "cell_type": "code",
   "execution_count": null,
   "metadata": {},
   "outputs": [],
   "source": [
    "help(plt.plot)"
   ]
  },
  {
   "cell_type": "markdown",
   "metadata": {},
   "source": [
    "<div id=\"Exemple\"></div>\n",
    "\n",
    "## Exemple complet <a href=\"#Titre\">(Sommaire)</a>"
   ]
  },
  {
   "cell_type": "code",
   "execution_count": null,
   "metadata": {},
   "outputs": [],
   "source": [
    "#on peut modifier A1, T1 et phi1 pour voir l'effet\n",
    "A1 = 1.\n",
    "T1 = 0.002\n",
    "phi1 = 0.\n",
    "\n",
    "A2 = 2.\n",
    "T2 = 0.002\n",
    "phi2 = 0.\n",
    "\n",
    "t = []\n",
    "Y1 = []\n",
    "Y2 = []\n",
    "dt = max(T1,T2)/10000\n",
    "\n",
    "for i in range(30000): #on construit les listes de données\n",
    "    t.append(i*dt)\n",
    "    Y1.append(A1 * cos(2*pi*t[-1]/T1 + phi1))\n",
    "    Y2.append(A2 * cos(2*pi*t[-1]/T2 + phi2))\n",
    "\n",
    "plt.figure()\n",
    "    \n",
    "plt.plot(t,Y1,\"red\",label=\"courbe 1\") #on trace les deux courbes\n",
    "plt.plot(t,Y2,\"green\",label=\"courbe 2\")\n",
    "\n",
    "ax = plt.gca() #ce bloc de 7 lignes permet d'avoir des axes qui se croisent en (0,0)\n",
    "ax.spines['right'].set_color('none')\n",
    "ax.spines['top'].set_color('none')\n",
    "ax.spines['bottom'].set_position(('data',0))\n",
    "ax.spines['left'].set_position(('data',0))\n",
    "ax.xaxis.set_ticks_position('bottom')\n",
    "ax.yaxis.set_ticks_position('left')\n",
    "\n",
    "plt.xlabel(\"t (s)\") #Ajoute une légende sur chaque axe\n",
    "plt.ylabel(\"y (m)\")\n",
    "\n",
    "plt.legend() #affiche la légende du graphique\n",
    "\n",
    "plt.title(\"Représenter deux sinusoides\") #ajoute un titre à la figure\n",
    "\n",
    "plt.show() #affiche le graphique"
   ]
  },
  {
   "cell_type": "markdown",
   "metadata": {},
   "source": [
    "\n",
    "<h2>RETOUR : <a href=\"#Titre\">(Sommaire)</a></h2>\n",
    "<h2>SUITE : <a href=\"./methode vecteurs.ipynb\">(Fiche Méthode - Tracer des vecteurs)</a></span></h2>"
   ]
  }
 ],
 "metadata": {
  "kernelspec": {
   "display_name": "Python 3",
   "language": "python",
   "name": "python3"
  },
  "language_info": {
   "codemirror_mode": {
    "name": "ipython",
    "version": 3
   },
   "file_extension": ".py",
   "mimetype": "text/x-python",
   "name": "python",
   "nbconvert_exporter": "python",
   "pygments_lexer": "ipython3",
   "version": "3.7.3rc1"
  }
 },
 "nbformat": 4,
 "nbformat_minor": 2
}
